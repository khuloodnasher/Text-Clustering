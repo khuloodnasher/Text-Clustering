{
  "nbformat": 4,
  "nbformat_minor": 0,
  "metadata": {
    "colab": {
      "name": "Text Clustering by K-means.ipynb",
      "provenance": [],
      "authorship_tag": "ABX9TyOB/znlR6qn6BvQMAnOACIE",
      "include_colab_link": true
    },
    "kernelspec": {
      "name": "python3",
      "display_name": "Python 3"
    }
  },
  "cells": [
    {
      "cell_type": "markdown",
      "metadata": {
        "id": "view-in-github",
        "colab_type": "text"
      },
      "source": [
        "<a href=\"https://colab.research.google.com/github/khuloodnasher/Text-Clustering/blob/main/Text_Clustering_by_K_means.ipynb\" target=\"_parent\"><img src=\"https://colab.research.google.com/assets/colab-badge.svg\" alt=\"Open In Colab\"/></a>"
      ]
    },
    {
      "cell_type": "code",
      "metadata": {
        "id": "cW3nboPo-PKS"
      },
      "source": [
        "import numpy as np\n",
        "import re"
      ],
      "execution_count": 1,
      "outputs": []
    },
    {
      "cell_type": "code",
      "metadata": {
        "id": "J1jFG-RJ7USL"
      },
      "source": [
        "corpus=\"\"\" \n",
        "Amazon  posted quarterly net sales of $125.6 billion.\n",
        "up 44% from the same period in the prior year and well ahead of the $119.7 billion Wall Street analysts had projected.\n",
        "Net income in the quarter hit $7.2 billion nearly double the $3.7 billion Wall Street predicted\n",
        "and more than double the $3.3 billion in income the company earned in the year-ago quarter.\n",
        "Earnings per diluted share were $14.09.After a week of practices here in Mobile. 100plus prospects for the 2021 NFL Draft capped off a crucial job interview in Saturday's Reese's Senior Bowl.\n",
        "The National team, coached by the Miami Dolphins staff. defeated the Carolina Panthers-led American team, 27-24. \n",
        "\"\"\".split(\"\\n\")[1:-1]"
      ],
      "execution_count": 2,
      "outputs": []
    },
    {
      "cell_type": "code",
      "metadata": {
        "colab": {
          "base_uri": "https://localhost:8080/"
        },
        "id": "bae1SrrM-ce_",
        "outputId": "3457204b-2c6b-40a9-cb90-765ad5758e85"
      },
      "source": [
        "corpus"
      ],
      "execution_count": 3,
      "outputs": [
        {
          "output_type": "execute_result",
          "data": {
            "text/plain": [
              "['Amazon  posted quarterly net sales of $125.6 billion.',\n",
              " 'up 44% from the same period in the prior year and well ahead of the $119.7 billion Wall Street analysts had projected.',\n",
              " 'Net income in the quarter hit $7.2 billion nearly double the $3.7 billion Wall Street predicted',\n",
              " 'and more than double the $3.3 billion in income the company earned in the year-ago quarter.',\n",
              " \"Earnings per diluted share were $14.09.After a week of practices here in Mobile. 100plus prospects for the 2021 NFL Draft capped off a crucial job interview in Saturday's Reese's Senior Bowl.\",\n",
              " 'The National team, coached by the Miami Dolphins staff. defeated the Carolina Panthers-led American team, 27-24. ']"
            ]
          },
          "metadata": {
            "tags": []
          },
          "execution_count": 3
        }
      ]
    },
    {
      "cell_type": "code",
      "metadata": {
        "id": "1THFvAfF-e07"
      },
      "source": [
        "# clearing and tokenizing\n",
        "l_A = corpus[0].lower().split()\n",
        "l_B = corpus[1].lower().split()\n",
        "l_C = corpus[2].lower().split()\n",
        "\n",
        "# Calculating bag of words\n",
        "word_set = set(l_A).union(set(l_B)).union(set(l_C))\n",
        "\n",
        "word_dict_A = dict.fromkeys(word_set, 0)\n",
        "word_dict_B = dict.fromkeys(word_set, 0)\n",
        "word_dict_C = dict.fromkeys(word_set, 0)\n",
        "\n",
        "for word in l_A:\n",
        "    word_dict_A[word] += 1\n",
        "\n",
        "for word in l_B:\n",
        "    word_dict_B[word] += 1\n",
        "\n",
        "for word in l_C:\n",
        "    word_dict_C[word] += 1"
      ],
      "execution_count": 4,
      "outputs": []
    },
    {
      "cell_type": "code",
      "metadata": {
        "colab": {
          "base_uri": "https://localhost:8080/"
        },
        "id": "nzWU2hdfFF2P",
        "outputId": "884ec3e3-157b-4a10-d2a9-1034f2e18692"
      },
      "source": [
        "word_dict_A"
      ],
      "execution_count": 5,
      "outputs": [
        {
          "output_type": "execute_result",
          "data": {
            "text/plain": [
              "{'$119.7': 0,\n",
              " '$125.6': 1,\n",
              " '$3.7': 0,\n",
              " '$7.2': 0,\n",
              " '44%': 0,\n",
              " 'ahead': 0,\n",
              " 'amazon': 1,\n",
              " 'analysts': 0,\n",
              " 'and': 0,\n",
              " 'billion': 0,\n",
              " 'billion.': 1,\n",
              " 'double': 0,\n",
              " 'from': 0,\n",
              " 'had': 0,\n",
              " 'hit': 0,\n",
              " 'in': 0,\n",
              " 'income': 0,\n",
              " 'nearly': 0,\n",
              " 'net': 1,\n",
              " 'of': 1,\n",
              " 'period': 0,\n",
              " 'posted': 1,\n",
              " 'predicted': 0,\n",
              " 'prior': 0,\n",
              " 'projected.': 0,\n",
              " 'quarter': 0,\n",
              " 'quarterly': 1,\n",
              " 'sales': 1,\n",
              " 'same': 0,\n",
              " 'street': 0,\n",
              " 'the': 0,\n",
              " 'up': 0,\n",
              " 'wall': 0,\n",
              " 'well': 0,\n",
              " 'year': 0}"
            ]
          },
          "metadata": {
            "tags": []
          },
          "execution_count": 5
        }
      ]
    },
    {
      "cell_type": "code",
      "metadata": {
        "colab": {
          "base_uri": "https://localhost:8080/"
        },
        "id": "PjehxfbYFNB8",
        "outputId": "44fd4adf-2b7d-4d72-fc0c-e77581b17aaf"
      },
      "source": [
        "word_dict_B"
      ],
      "execution_count": 6,
      "outputs": [
        {
          "output_type": "execute_result",
          "data": {
            "text/plain": [
              "{'$119.7': 1,\n",
              " '$125.6': 0,\n",
              " '$3.7': 0,\n",
              " '$7.2': 0,\n",
              " '44%': 1,\n",
              " 'ahead': 1,\n",
              " 'amazon': 0,\n",
              " 'analysts': 1,\n",
              " 'and': 1,\n",
              " 'billion': 1,\n",
              " 'billion.': 0,\n",
              " 'double': 0,\n",
              " 'from': 1,\n",
              " 'had': 1,\n",
              " 'hit': 0,\n",
              " 'in': 1,\n",
              " 'income': 0,\n",
              " 'nearly': 0,\n",
              " 'net': 0,\n",
              " 'of': 1,\n",
              " 'period': 1,\n",
              " 'posted': 0,\n",
              " 'predicted': 0,\n",
              " 'prior': 1,\n",
              " 'projected.': 1,\n",
              " 'quarter': 0,\n",
              " 'quarterly': 0,\n",
              " 'sales': 0,\n",
              " 'same': 1,\n",
              " 'street': 1,\n",
              " 'the': 3,\n",
              " 'up': 1,\n",
              " 'wall': 1,\n",
              " 'well': 1,\n",
              " 'year': 1}"
            ]
          },
          "metadata": {
            "tags": []
          },
          "execution_count": 6
        }
      ]
    },
    {
      "cell_type": "code",
      "metadata": {
        "colab": {
          "base_uri": "https://localhost:8080/"
        },
        "id": "ohjmLn4dFmu0",
        "outputId": "e1ed0ef7-0cf5-4669-f051-195728d1db7b"
      },
      "source": [
        "word_dict_C"
      ],
      "execution_count": 7,
      "outputs": [
        {
          "output_type": "execute_result",
          "data": {
            "text/plain": [
              "{'$119.7': 0,\n",
              " '$125.6': 0,\n",
              " '$3.7': 1,\n",
              " '$7.2': 1,\n",
              " '44%': 0,\n",
              " 'ahead': 0,\n",
              " 'amazon': 0,\n",
              " 'analysts': 0,\n",
              " 'and': 0,\n",
              " 'billion': 2,\n",
              " 'billion.': 0,\n",
              " 'double': 1,\n",
              " 'from': 0,\n",
              " 'had': 0,\n",
              " 'hit': 1,\n",
              " 'in': 1,\n",
              " 'income': 1,\n",
              " 'nearly': 1,\n",
              " 'net': 1,\n",
              " 'of': 0,\n",
              " 'period': 0,\n",
              " 'posted': 0,\n",
              " 'predicted': 1,\n",
              " 'prior': 0,\n",
              " 'projected.': 0,\n",
              " 'quarter': 1,\n",
              " 'quarterly': 0,\n",
              " 'sales': 0,\n",
              " 'same': 0,\n",
              " 'street': 1,\n",
              " 'the': 2,\n",
              " 'up': 0,\n",
              " 'wall': 1,\n",
              " 'well': 0,\n",
              " 'year': 0}"
            ]
          },
          "metadata": {
            "tags": []
          },
          "execution_count": 7
        }
      ]
    },
    {
      "cell_type": "code",
      "metadata": {
        "id": "4RrH6hCmFtpe"
      },
      "source": [
        "def compute_tf(word_dict, l):\n",
        "    tf = {}\n",
        "    sum_nk = len(l)\n",
        "    for word, count in word_dict.items():\n",
        "        tf[word] = count/sum_nk\n",
        "    return tf\n",
        "  \n",
        "tf_A = compute_tf(word_dict_A, l_A)\n",
        "tf_B = compute_tf(word_dict_B, l_B)\n",
        "tf_C = compute_tf(word_dict_C, l_C)\n"
      ],
      "execution_count": 8,
      "outputs": []
    },
    {
      "cell_type": "code",
      "metadata": {
        "colab": {
          "base_uri": "https://localhost:8080/"
        },
        "id": "hgqow_slOOk3",
        "outputId": "06ee2341-69e7-4a82-99e0-9bbf52246f87"
      },
      "source": [
        "tf_A"
      ],
      "execution_count": 9,
      "outputs": [
        {
          "output_type": "execute_result",
          "data": {
            "text/plain": [
              "{'$119.7': 0.0,\n",
              " '$125.6': 0.125,\n",
              " '$3.7': 0.0,\n",
              " '$7.2': 0.0,\n",
              " '44%': 0.0,\n",
              " 'ahead': 0.0,\n",
              " 'amazon': 0.125,\n",
              " 'analysts': 0.0,\n",
              " 'and': 0.0,\n",
              " 'billion': 0.0,\n",
              " 'billion.': 0.125,\n",
              " 'double': 0.0,\n",
              " 'from': 0.0,\n",
              " 'had': 0.0,\n",
              " 'hit': 0.0,\n",
              " 'in': 0.0,\n",
              " 'income': 0.0,\n",
              " 'nearly': 0.0,\n",
              " 'net': 0.125,\n",
              " 'of': 0.125,\n",
              " 'period': 0.0,\n",
              " 'posted': 0.125,\n",
              " 'predicted': 0.0,\n",
              " 'prior': 0.0,\n",
              " 'projected.': 0.0,\n",
              " 'quarter': 0.0,\n",
              " 'quarterly': 0.125,\n",
              " 'sales': 0.125,\n",
              " 'same': 0.0,\n",
              " 'street': 0.0,\n",
              " 'the': 0.0,\n",
              " 'up': 0.0,\n",
              " 'wall': 0.0,\n",
              " 'well': 0.0,\n",
              " 'year': 0.0}"
            ]
          },
          "metadata": {
            "tags": []
          },
          "execution_count": 9
        }
      ]
    },
    {
      "cell_type": "code",
      "metadata": {
        "colab": {
          "base_uri": "https://localhost:8080/"
        },
        "id": "WZ8XL2r5OULs",
        "outputId": "cc1a258e-b2a4-4d63-8211-44a139f866d8"
      },
      "source": [
        "tf_B"
      ],
      "execution_count": 10,
      "outputs": [
        {
          "output_type": "execute_result",
          "data": {
            "text/plain": [
              "{'$119.7': 0.045454545454545456,\n",
              " '$125.6': 0.0,\n",
              " '$3.7': 0.0,\n",
              " '$7.2': 0.0,\n",
              " '44%': 0.045454545454545456,\n",
              " 'ahead': 0.045454545454545456,\n",
              " 'amazon': 0.0,\n",
              " 'analysts': 0.045454545454545456,\n",
              " 'and': 0.045454545454545456,\n",
              " 'billion': 0.045454545454545456,\n",
              " 'billion.': 0.0,\n",
              " 'double': 0.0,\n",
              " 'from': 0.045454545454545456,\n",
              " 'had': 0.045454545454545456,\n",
              " 'hit': 0.0,\n",
              " 'in': 0.045454545454545456,\n",
              " 'income': 0.0,\n",
              " 'nearly': 0.0,\n",
              " 'net': 0.0,\n",
              " 'of': 0.045454545454545456,\n",
              " 'period': 0.045454545454545456,\n",
              " 'posted': 0.0,\n",
              " 'predicted': 0.0,\n",
              " 'prior': 0.045454545454545456,\n",
              " 'projected.': 0.045454545454545456,\n",
              " 'quarter': 0.0,\n",
              " 'quarterly': 0.0,\n",
              " 'sales': 0.0,\n",
              " 'same': 0.045454545454545456,\n",
              " 'street': 0.045454545454545456,\n",
              " 'the': 0.13636363636363635,\n",
              " 'up': 0.045454545454545456,\n",
              " 'wall': 0.045454545454545456,\n",
              " 'well': 0.045454545454545456,\n",
              " 'year': 0.045454545454545456}"
            ]
          },
          "metadata": {
            "tags": []
          },
          "execution_count": 10
        }
      ]
    },
    {
      "cell_type": "code",
      "metadata": {
        "colab": {
          "base_uri": "https://localhost:8080/"
        },
        "id": "jgmR14k3Od6I",
        "outputId": "40695413-ea2e-4005-cf9b-ed857ab936ee"
      },
      "source": [
        "tf_C"
      ],
      "execution_count": 11,
      "outputs": [
        {
          "output_type": "execute_result",
          "data": {
            "text/plain": [
              "{'$119.7': 0.0,\n",
              " '$125.6': 0.0,\n",
              " '$3.7': 0.0625,\n",
              " '$7.2': 0.0625,\n",
              " '44%': 0.0,\n",
              " 'ahead': 0.0,\n",
              " 'amazon': 0.0,\n",
              " 'analysts': 0.0,\n",
              " 'and': 0.0,\n",
              " 'billion': 0.125,\n",
              " 'billion.': 0.0,\n",
              " 'double': 0.0625,\n",
              " 'from': 0.0,\n",
              " 'had': 0.0,\n",
              " 'hit': 0.0625,\n",
              " 'in': 0.0625,\n",
              " 'income': 0.0625,\n",
              " 'nearly': 0.0625,\n",
              " 'net': 0.0625,\n",
              " 'of': 0.0,\n",
              " 'period': 0.0,\n",
              " 'posted': 0.0,\n",
              " 'predicted': 0.0625,\n",
              " 'prior': 0.0,\n",
              " 'projected.': 0.0,\n",
              " 'quarter': 0.0625,\n",
              " 'quarterly': 0.0,\n",
              " 'sales': 0.0,\n",
              " 'same': 0.0,\n",
              " 'street': 0.0625,\n",
              " 'the': 0.125,\n",
              " 'up': 0.0,\n",
              " 'wall': 0.0625,\n",
              " 'well': 0.0,\n",
              " 'year': 0.0}"
            ]
          },
          "metadata": {
            "tags": []
          },
          "execution_count": 11
        }
      ]
    },
    {
      "cell_type": "code",
      "metadata": {
        "id": "g_WXrQdtOidZ"
      },
      "source": [
        "import numpy as np\n",
        "import re\n",
        "\n",
        "\n",
        "corpus=\"\"\" \n",
        "Amazon  posted quarterly net sales of $125.6 billion.\n",
        "up 44% from the same period in the prior year and well ahead of the $119.7 billion Wall Street analysts had projected.\n",
        "Net income in the quarter hit $7.2 billion nearly double the $3.7 billion Wall Street predicted\n",
        "and more than double the $3.3 billion in income the company earned in the year-ago quarter.\n",
        "Earnings per diluted share were $14.09.After a week of practices here in Mobile. 100plus prospects for the 2021 NFL Draft capped off a crucial job interview in Saturday's Reese's Senior Bowl.\n",
        "The National team, coached by the Miami Dolphins staff. defeated the Carolina Panthers-led American team, 27-24. \n",
        "\"\"\".split(\"\\n\")[1:-1]\n",
        "\n"
      ],
      "execution_count": 12,
      "outputs": []
    },
    {
      "cell_type": "code",
      "metadata": {
        "colab": {
          "base_uri": "https://localhost:8080/"
        },
        "id": "G5SAU2WQuceL",
        "outputId": "02adf8a0-1ba4-404e-80cb-fc0a84f3fa35"
      },
      "source": [
        "corpus"
      ],
      "execution_count": 13,
      "outputs": [
        {
          "output_type": "execute_result",
          "data": {
            "text/plain": [
              "['Amazon  posted quarterly net sales of $125.6 billion.',\n",
              " 'up 44% from the same period in the prior year and well ahead of the $119.7 billion Wall Street analysts had projected.',\n",
              " 'Net income in the quarter hit $7.2 billion nearly double the $3.7 billion Wall Street predicted',\n",
              " 'and more than double the $3.3 billion in income the company earned in the year-ago quarter.',\n",
              " \"Earnings per diluted share were $14.09.After a week of practices here in Mobile. 100plus prospects for the 2021 NFL Draft capped off a crucial job interview in Saturday's Reese's Senior Bowl.\",\n",
              " 'The National team, coached by the Miami Dolphins staff. defeated the Carolina Panthers-led American team, 27-24. ']"
            ]
          },
          "metadata": {
            "tags": []
          },
          "execution_count": 13
        }
      ]
    },
    {
      "cell_type": "code",
      "metadata": {
        "id": "3g535EQStzPo"
      },
      "source": [
        "# cleaning\n",
        "def preprocessing(line):\n",
        "    line = line.lower()\n",
        "    line = re.sub(r\"[{}]\", \" \", line)\n",
        "    return line"
      ],
      "execution_count": 14,
      "outputs": []
    },
    {
      "cell_type": "code",
      "metadata": {
        "id": "dO81aWj4rH-p"
      },
      "source": [
        "from sklearn.feature_extraction.text import TfidfVectorizer\n",
        "from sklearn.cluster import KMeans\n",
        "\n",
        "\n",
        "\n",
        "\n",
        "\n",
        "tfidf_vectorizer = TfidfVectorizer(preprocessor=preprocessing)\n",
        "tfidf = tfidf_vectorizer.fit_transform(corpus)\n",
        "\n",
        "kmeans = KMeans(n_clusters=2).fit(tfidf)\n"
      ],
      "execution_count": 15,
      "outputs": []
    },
    {
      "cell_type": "code",
      "metadata": {
        "id": "PqsG9q38tyZF"
      },
      "source": [
        ""
      ],
      "execution_count": 15,
      "outputs": []
    },
    {
      "cell_type": "code",
      "metadata": {
        "colab": {
          "base_uri": "https://localhost:8080/"
        },
        "id": "EobZi-blrpv0",
        "outputId": "6ebc9edd-90f5-46bd-de26-b02d9932e6a3"
      },
      "source": [
        "\n",
        "lines_for_predicting = [\"The National team, coached by the Miami Dolphins staff. defeated the Carolina Panthers-led American team, 27-24.\", \"and more than double the $3.3 billion in income the company earned in the year-ago quarter.\"]\n",
        "kmeans.predict(tfidf_vectorizer.transform(lines_for_predicting))"
      ],
      "execution_count": 16,
      "outputs": [
        {
          "output_type": "execute_result",
          "data": {
            "text/plain": [
              "array([0, 0], dtype=int32)"
            ]
          },
          "metadata": {
            "tags": []
          },
          "execution_count": 16
        }
      ]
    },
    {
      "cell_type": "code",
      "metadata": {
        "colab": {
          "base_uri": "https://localhost:8080/"
        },
        "id": "1TF0fth2E2q2",
        "outputId": "42201e53-8224-453d-f2ed-d5f7ba7879bc"
      },
      "source": [
        "predict_1 = [\"Amazon  posted quarterly net sales of $125.6 billion.\", \"up 44% from the same period in the prior year and well ahead of the $119.7 billion Wall Street analysts had projected.\"]\n",
        "kmeans.predict(tfidf_vectorizer.transform(predict_1))"
      ],
      "execution_count": 17,
      "outputs": [
        {
          "output_type": "execute_result",
          "data": {
            "text/plain": [
              "array([1, 0], dtype=int32)"
            ]
          },
          "metadata": {
            "tags": []
          },
          "execution_count": 17
        }
      ]
    },
    {
      "cell_type": "code",
      "metadata": {
        "id": "mqlUNWl9kaif"
      },
      "source": [
        "corpus=\"\"\" \n",
        "Amazon  posted quarterly net sales of $125.6 billion.\n",
        "up 44% from the same period in the prior year and well ahead of the $119.7 billion Wall Street analysts had projected.\n",
        "Net income in the quarter hit $7.2 billion nearly double the $3.7 billion Wall Street predicted\n",
        "and more than double the $3.3 billion in income the company earned in the year-ago quarter.\n",
        "Earnings per diluted share were $14.09.After a week of practices here in Mobile. 100plus prospects for the 2021 NFL Draft capped off a crucial job interview in Saturday's Reese's Senior Bowl.\n",
        "The National team, coached by the Miami Dolphins staff. defeated the Carolina Panthers-led American team, 27-24. \n",
        "\"\"\"\n"
      ],
      "execution_count": 18,
      "outputs": []
    },
    {
      "cell_type": "code",
      "metadata": {
        "id": "jDgD5uaEsuc6"
      },
      "source": [
        "from sklearn.feature_extraction.text import TfidfVectorizer\n",
        "from sklearn.cluster import KMeans\n",
        "from sklearn.metrics import adjusted_rand_score"
      ],
      "execution_count": 19,
      "outputs": []
    },
    {
      "cell_type": "code",
      "metadata": {
        "id": "NeoJan7Tucex"
      },
      "source": [
        ""
      ],
      "execution_count": 19,
      "outputs": []
    },
    {
      "cell_type": "code",
      "metadata": {
        "id": "Npcyx4aasx5e"
      },
      "source": [
        "documents = [\"Amazon  posted quarterly net sales of $125.6 billion.\",\n",
        "             \"up 44% from the same period in the prior year and well ahead of the $119.7 billion Wall Street analysts had projected.\",\n",
        "             \"Net income in the quarter hit $7.2 billion nearly double the $3.7 billion Wall Street predicted.\",\n",
        "             \"more than double the $3.3 billion in income the company earned in the year-ago quarter.\",\n",
        "             \"Earnings per diluted share were $14.09.After a week of practices here in Mobile. 100plus prospects for the 2021 NFL Draft capped off a crucial job interview in Saturday's Reese's Senior Bowl.\",\n",
        "             \"The National team, coached by the Miami Dolphins staff. defeated the Carolina Panthers-led American team, 27-24.\"]"
      ],
      "execution_count": 20,
      "outputs": []
    },
    {
      "cell_type": "code",
      "metadata": {
        "id": "oPOseBx6tak1"
      },
      "source": [
        "vectorizer = TfidfVectorizer(stop_words='english')\n",
        "X = vectorizer.fit_transform(documents)\n"
      ],
      "execution_count": 21,
      "outputs": []
    },
    {
      "cell_type": "code",
      "metadata": {
        "colab": {
          "base_uri": "https://localhost:8080/"
        },
        "id": "wzSeNxbpudcG",
        "outputId": "23955ecf-d43e-463b-df24-24479f01d397"
      },
      "source": [
        "true_k = 2\n",
        "model = KMeans(n_clusters=true_k, init='k-means++', max_iter=100, n_init=1)\n",
        "model.fit(X)"
      ],
      "execution_count": 22,
      "outputs": [
        {
          "output_type": "execute_result",
          "data": {
            "text/plain": [
              "KMeans(algorithm='auto', copy_x=True, init='k-means++', max_iter=100,\n",
              "       n_clusters=2, n_init=1, n_jobs=None, precompute_distances='auto',\n",
              "       random_state=None, tol=0.0001, verbose=0)"
            ]
          },
          "metadata": {
            "tags": []
          },
          "execution_count": 22
        }
      ]
    },
    {
      "cell_type": "code",
      "metadata": {
        "colab": {
          "base_uri": "https://localhost:8080/"
        },
        "id": "XlbE0RimudqK",
        "outputId": "41cf73b3-abd1-42f5-a2bd-c97424dc5231"
      },
      "source": [
        "# Top terms per cluster\n",
        "order_centroids = model.cluster_centers_.argsort()[:, ::-1]\n",
        "order_centroids"
      ],
      "execution_count": 23,
      "outputs": [
        {
          "output_type": "execute_result",
          "data": {
            "text/plain": [
              "array([[ 0, 27, 34, 38, 22, 42, 31, 30, 58, 46, 16, 15, 49,  5, 51, 52,\n",
              "        53,  4, 20, 25,  1, 18, 17, 19, 11, 14, 13, 12, 10,  9,  8,  7,\n",
              "         6,  3,  2, 21, 59, 23, 43, 57, 56, 55, 54, 50, 48, 47, 45, 44,\n",
              "        41, 24, 40, 39, 37, 36, 35, 33, 32, 28, 26, 29],\n",
              "       [14, 37, 29, 47, 24, 59, 57, 55, 56, 41, 11, 50, 48,  3, 26, 19,\n",
              "         9, 43, 28, 36, 44, 45, 40, 13,  2, 10,  8, 21, 23, 12, 18, 35,\n",
              "         7, 32, 33,  6, 39, 54, 17, 15,  5,  4,  1, 53, 16, 20, 22, 25,\n",
              "        52, 27, 58, 30, 31, 34, 38, 42, 46, 49, 51,  0]])"
            ]
          },
          "metadata": {
            "tags": []
          },
          "execution_count": 23
        }
      ]
    },
    {
      "cell_type": "code",
      "metadata": {
        "colab": {
          "base_uri": "https://localhost:8080/"
        },
        "id": "nCflHRySuyXi",
        "outputId": "7ec7aeb1-f129-4e2a-b011-cec551862b88"
      },
      "source": [
        "terms = vectorizer.get_feature_names()\n",
        "terms"
      ],
      "execution_count": 24,
      "outputs": [
        {
          "output_type": "execute_result",
          "data": {
            "text/plain": [
              "['09',\n",
              " '100plus',\n",
              " '119',\n",
              " '125',\n",
              " '14',\n",
              " '2021',\n",
              " '24',\n",
              " '27',\n",
              " '44',\n",
              " 'ago',\n",
              " 'ahead',\n",
              " 'amazon',\n",
              " 'american',\n",
              " 'analysts',\n",
              " 'billion',\n",
              " 'bowl',\n",
              " 'capped',\n",
              " 'carolina',\n",
              " 'coached',\n",
              " 'company',\n",
              " 'crucial',\n",
              " 'defeated',\n",
              " 'diluted',\n",
              " 'dolphins',\n",
              " 'double',\n",
              " 'draft',\n",
              " 'earned',\n",
              " 'earnings',\n",
              " 'hit',\n",
              " 'income',\n",
              " 'interview',\n",
              " 'job',\n",
              " 'led',\n",
              " 'miami',\n",
              " 'mobile',\n",
              " 'national',\n",
              " 'nearly',\n",
              " 'net',\n",
              " 'nfl',\n",
              " 'panthers',\n",
              " 'period',\n",
              " 'posted',\n",
              " 'practices',\n",
              " 'predicted',\n",
              " 'prior',\n",
              " 'projected',\n",
              " 'prospects',\n",
              " 'quarter',\n",
              " 'quarterly',\n",
              " 'reese',\n",
              " 'sales',\n",
              " 'saturday',\n",
              " 'senior',\n",
              " 'share',\n",
              " 'staff',\n",
              " 'street',\n",
              " 'team',\n",
              " 'wall',\n",
              " 'week',\n",
              " 'year']"
            ]
          },
          "metadata": {
            "tags": []
          },
          "execution_count": 24
        }
      ]
    },
    {
      "cell_type": "code",
      "metadata": {
        "colab": {
          "base_uri": "https://localhost:8080/"
        },
        "id": "AfPErDBiu53E",
        "outputId": "7fdf7eb9-0162-416d-b929-24105e37377b"
      },
      "source": [
        "for i in range(true_k):\n",
        "    print(\"Cluster %d:\" % i),\n",
        "    for ind in order_centroids[i, :10]:\n",
        "        print(' %s' % terms[ind]),\n",
        "    print('------------------------------------------')\n",
        "\n",
        "print(\"\\n\")\n",
        "print(\"Prediction\")"
      ],
      "execution_count": 25,
      "outputs": [
        {
          "output_type": "stream",
          "text": [
            "Cluster 0:\n",
            " 09\n",
            " earnings\n",
            " mobile\n",
            " nfl\n",
            " diluted\n",
            " practices\n",
            " job\n",
            " interview\n",
            " week\n",
            " prospects\n",
            "------------------------------------------\n",
            "Cluster 1:\n",
            " billion\n",
            " net\n",
            " income\n",
            " quarter\n",
            " double\n",
            " year\n",
            " wall\n",
            " street\n",
            " team\n",
            " posted\n",
            "------------------------------------------\n",
            "\n",
            "\n",
            "Prediction\n"
          ],
          "name": "stdout"
        }
      ]
    },
    {
      "cell_type": "code",
      "metadata": {
        "colab": {
          "base_uri": "https://localhost:8080/"
        },
        "id": "dY0TN-mGvCA-",
        "outputId": "2ba22acd-5ebe-4e57-ff92-74deff6e784e"
      },
      "source": [
        "Y = vectorizer.transform([\"The National team, coached by the Miami Dolphins staff.\"])\n",
        "prediction = model.predict(Y)\n",
        "print(prediction)"
      ],
      "execution_count": 26,
      "outputs": [
        {
          "output_type": "stream",
          "text": [
            "[1]\n"
          ],
          "name": "stdout"
        }
      ]
    },
    {
      "cell_type": "code",
      "metadata": {
        "id": "DDPt6ly4vI5Q"
      },
      "source": [
        ""
      ],
      "execution_count": 26,
      "outputs": []
    }
  ]
}