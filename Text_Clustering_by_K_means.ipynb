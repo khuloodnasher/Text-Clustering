{
  "nbformat": 4,
  "nbformat_minor": 0,
  "metadata": {
    "colab": {
      "name": "Text Clustering by K-means.ipynb",
      "provenance": [],
      "authorship_tag": "ABX9TyMAKG57xVFlEB7zLi75xP63",
      "include_colab_link": true
    },
    "kernelspec": {
      "name": "python3",
      "display_name": "Python 3"
    }
  },
  "cells": [
    {
      "cell_type": "markdown",
      "metadata": {
        "id": "view-in-github",
        "colab_type": "text"
      },
      "source": [
        "<a href=\"https://colab.research.google.com/github/khuloodnasher/Text-Clustering/blob/main/Text_Clustering_by_K_means.ipynb\" target=\"_parent\"><img src=\"https://colab.research.google.com/assets/colab-badge.svg\" alt=\"Open In Colab\"/></a>"
      ]
    },
    {
      "cell_type": "code",
      "metadata": {
        "id": "cW3nboPo-PKS"
      },
      "source": [
        "import numpy as np\n",
        "import re"
      ],
      "execution_count": 1,
      "outputs": []
    },
    {
      "cell_type": "code",
      "metadata": {
        "id": "J1jFG-RJ7USL"
      },
      "source": [
        "corpus=\"\"\" \n",
        "Amazon  posted quarterly net sales of $125.6 billion.\n",
        "up 44% from the same period in the prior year and well ahead of the $119.7 billion Wall Street analysts had projected.\n",
        "Net income in the quarter hit $7.2 billion nearly double the $3.7 billion Wall Street predicted\n",
        "and more than double the $3.3 billion in income the company earned in the year-ago quarter.\n",
        "Earnings per diluted share were $14.09.After a week of practices here in Mobile. 100plus prospects for the 2021 NFL Draft capped off a crucial job interview in Saturday's Reese's Senior Bowl.\n",
        "The National team, coached by the Miami Dolphins staff. defeated the Carolina Panthers-led American team, 27-24. \n",
        "\"\"\".split(\"\\n\")[1:-1]"
      ],
      "execution_count": 2,
      "outputs": []
    },
    {
      "cell_type": "code",
      "metadata": {
        "colab": {
          "base_uri": "https://localhost:8080/"
        },
        "id": "bae1SrrM-ce_",
        "outputId": "e403da96-cc5d-4eec-9be4-7f86f1713933"
      },
      "source": [
        "corpus"
      ],
      "execution_count": 3,
      "outputs": [
        {
          "output_type": "execute_result",
          "data": {
            "text/plain": [
              "['Amazon  posted quarterly net sales of $125.6 billion.',\n",
              " 'up 44% from the same period in the prior year and well ahead of the $119.7 billion Wall Street analysts had projected.',\n",
              " 'Net income in the quarter hit $7.2 billion nearly double the $3.7 billion Wall Street predicted',\n",
              " 'and more than double the $3.3 billion in income the company earned in the year-ago quarter.',\n",
              " \"Earnings per diluted share were $14.09.After a week of practices here in Mobile. 100plus prospects for the 2021 NFL Draft capped off a crucial job interview in Saturday's Reese's Senior Bowl.\",\n",
              " 'The National team, coached by the Miami Dolphins staff. defeated the Carolina Panthers-led American team, 27-24. ']"
            ]
          },
          "metadata": {
            "tags": []
          },
          "execution_count": 3
        }
      ]
    },
    {
      "cell_type": "code",
      "metadata": {
        "id": "1THFvAfF-e07"
      },
      "source": [
        "# clearing and tokenizing\n",
        "l_A = corpus[0].lower().split()\n",
        "l_B = corpus[1].lower().split()\n",
        "l_C = corpus[2].lower().split()\n",
        "\n",
        "# Calculating bag of words\n",
        "word_set = set(l_A).union(set(l_B)).union(set(l_C))\n",
        "\n",
        "word_dict_A = dict.fromkeys(word_set, 0)\n",
        "word_dict_B = dict.fromkeys(word_set, 0)\n",
        "word_dict_C = dict.fromkeys(word_set, 0)\n",
        "\n",
        "for word in l_A:\n",
        "    word_dict_A[word] += 1\n",
        "\n",
        "for word in l_B:\n",
        "    word_dict_B[word] += 1\n",
        "\n",
        "for word in l_C:\n",
        "    word_dict_C[word] += 1"
      ],
      "execution_count": 5,
      "outputs": []
    },
    {
      "cell_type": "code",
      "metadata": {
        "colab": {
          "base_uri": "https://localhost:8080/"
        },
        "id": "nzWU2hdfFF2P",
        "outputId": "3a7580c7-321b-49ea-de70-821b86605323"
      },
      "source": [
        "word_dict_A"
      ],
      "execution_count": 6,
      "outputs": [
        {
          "output_type": "execute_result",
          "data": {
            "text/plain": [
              "{'$119.7': 0,\n",
              " '$125.6': 1,\n",
              " '$3.7': 0,\n",
              " '$7.2': 0,\n",
              " '44%': 0,\n",
              " 'ahead': 0,\n",
              " 'amazon': 1,\n",
              " 'analysts': 0,\n",
              " 'and': 0,\n",
              " 'billion': 0,\n",
              " 'billion.': 1,\n",
              " 'double': 0,\n",
              " 'from': 0,\n",
              " 'had': 0,\n",
              " 'hit': 0,\n",
              " 'in': 0,\n",
              " 'income': 0,\n",
              " 'nearly': 0,\n",
              " 'net': 1,\n",
              " 'of': 1,\n",
              " 'period': 0,\n",
              " 'posted': 1,\n",
              " 'predicted': 0,\n",
              " 'prior': 0,\n",
              " 'projected.': 0,\n",
              " 'quarter': 0,\n",
              " 'quarterly': 1,\n",
              " 'sales': 1,\n",
              " 'same': 0,\n",
              " 'street': 0,\n",
              " 'the': 0,\n",
              " 'up': 0,\n",
              " 'wall': 0,\n",
              " 'well': 0,\n",
              " 'year': 0}"
            ]
          },
          "metadata": {
            "tags": []
          },
          "execution_count": 6
        }
      ]
    },
    {
      "cell_type": "code",
      "metadata": {
        "id": "PjehxfbYFNB8"
      },
      "source": [
        ""
      ],
      "execution_count": null,
      "outputs": []
    }
  ]
}