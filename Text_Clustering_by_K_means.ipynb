{
  "nbformat": 4,
  "nbformat_minor": 0,
  "metadata": {
    "colab": {
      "name": "Text Clustering by K-means.ipynb",
      "provenance": [],
      "authorship_tag": "ABX9TyMAkwfjRl6Tdwo7hwjP3UuY",
      "include_colab_link": true
    },
    "kernelspec": {
      "name": "python3",
      "display_name": "Python 3"
    }
  },
  "cells": [
    {
      "cell_type": "markdown",
      "metadata": {
        "id": "view-in-github",
        "colab_type": "text"
      },
      "source": [
        "<a href=\"https://colab.research.google.com/github/khuloodnasher/Text-Clustering/blob/main/Text_Clustering_by_K_means.ipynb\" target=\"_parent\"><img src=\"https://colab.research.google.com/assets/colab-badge.svg\" alt=\"Open In Colab\"/></a>"
      ]
    },
    {
      "cell_type": "code",
      "metadata": {
        "id": "cW3nboPo-PKS"
      },
      "source": [
        "import numpy as np\n",
        "import re"
      ],
      "execution_count": 1,
      "outputs": []
    },
    {
      "cell_type": "code",
      "metadata": {
        "id": "J1jFG-RJ7USL"
      },
      "source": [
        "corpus=\"\"\" \n",
        "Amazon  posted quarterly net sales of $125.6 billion.\n",
        "up 44% from the same period in the prior year and well ahead of the $119.7 billion Wall Street analysts had projected.\n",
        "Net income in the quarter hit $7.2 billion nearly double the $3.7 billion Wall Street predicted\n",
        "and more than double the $3.3 billion in income the company earned in the year-ago quarter.\n",
        "Earnings per diluted share were $14.09.After a week of practices here in Mobile. 100plus prospects for the 2021 NFL Draft capped off a crucial job interview in Saturday's Reese's Senior Bowl.\n",
        "The National team, coached by the Miami Dolphins staff. defeated the Carolina Panthers-led American team, 27-24. \n",
        "\"\"\".split(\"\\n\")[1:-1]"
      ],
      "execution_count": 2,
      "outputs": []
    },
    {
      "cell_type": "code",
      "metadata": {
        "colab": {
          "base_uri": "https://localhost:8080/"
        },
        "id": "bae1SrrM-ce_",
        "outputId": "e403da96-cc5d-4eec-9be4-7f86f1713933"
      },
      "source": [
        "corpus"
      ],
      "execution_count": 3,
      "outputs": [
        {
          "output_type": "execute_result",
          "data": {
            "text/plain": [
              "['Amazon  posted quarterly net sales of $125.6 billion.',\n",
              " 'up 44% from the same period in the prior year and well ahead of the $119.7 billion Wall Street analysts had projected.',\n",
              " 'Net income in the quarter hit $7.2 billion nearly double the $3.7 billion Wall Street predicted',\n",
              " 'and more than double the $3.3 billion in income the company earned in the year-ago quarter.',\n",
              " \"Earnings per diluted share were $14.09.After a week of practices here in Mobile. 100plus prospects for the 2021 NFL Draft capped off a crucial job interview in Saturday's Reese's Senior Bowl.\",\n",
              " 'The National team, coached by the Miami Dolphins staff. defeated the Carolina Panthers-led American team, 27-24. ']"
            ]
          },
          "metadata": {
            "tags": []
          },
          "execution_count": 3
        }
      ]
    },
    {
      "cell_type": "code",
      "metadata": {
        "id": "1THFvAfF-e07"
      },
      "source": [
        "# clearing and tokenizing\n",
        "l_A = corpus[0].lower().split()\n",
        "l_B = corpus[1].lower().split()\n",
        "l_C = corpus[2].lower().split()\n",
        "\n",
        "# Calculating bag of words\n",
        "word_set = set(l_A).union(set(l_B)).union(set(l_C))\n",
        "\n",
        "word_dict_A = dict.fromkeys(word_set, 0)\n",
        "word_dict_B = dict.fromkeys(word_set, 0)\n",
        "word_dict_C = dict.fromkeys(word_set, 0)\n",
        "\n",
        "for word in l_A:\n",
        "    word_dict_A[word] += 1\n",
        "\n",
        "for word in l_B:\n",
        "    word_dict_B[word] += 1\n",
        "\n",
        "for word in l_C:\n",
        "    word_dict_C[word] += 1"
      ],
      "execution_count": 5,
      "outputs": []
    },
    {
      "cell_type": "code",
      "metadata": {
        "colab": {
          "base_uri": "https://localhost:8080/"
        },
        "id": "nzWU2hdfFF2P",
        "outputId": "3a7580c7-321b-49ea-de70-821b86605323"
      },
      "source": [
        "word_dict_A"
      ],
      "execution_count": 6,
      "outputs": [
        {
          "output_type": "execute_result",
          "data": {
            "text/plain": [
              "{'$119.7': 0,\n",
              " '$125.6': 1,\n",
              " '$3.7': 0,\n",
              " '$7.2': 0,\n",
              " '44%': 0,\n",
              " 'ahead': 0,\n",
              " 'amazon': 1,\n",
              " 'analysts': 0,\n",
              " 'and': 0,\n",
              " 'billion': 0,\n",
              " 'billion.': 1,\n",
              " 'double': 0,\n",
              " 'from': 0,\n",
              " 'had': 0,\n",
              " 'hit': 0,\n",
              " 'in': 0,\n",
              " 'income': 0,\n",
              " 'nearly': 0,\n",
              " 'net': 1,\n",
              " 'of': 1,\n",
              " 'period': 0,\n",
              " 'posted': 1,\n",
              " 'predicted': 0,\n",
              " 'prior': 0,\n",
              " 'projected.': 0,\n",
              " 'quarter': 0,\n",
              " 'quarterly': 1,\n",
              " 'sales': 1,\n",
              " 'same': 0,\n",
              " 'street': 0,\n",
              " 'the': 0,\n",
              " 'up': 0,\n",
              " 'wall': 0,\n",
              " 'well': 0,\n",
              " 'year': 0}"
            ]
          },
          "metadata": {
            "tags": []
          },
          "execution_count": 6
        }
      ]
    },
    {
      "cell_type": "code",
      "metadata": {
        "colab": {
          "base_uri": "https://localhost:8080/"
        },
        "id": "PjehxfbYFNB8",
        "outputId": "4803ecdf-c45c-4b42-e533-d612090c60af"
      },
      "source": [
        "word_dict_B"
      ],
      "execution_count": 7,
      "outputs": [
        {
          "output_type": "execute_result",
          "data": {
            "text/plain": [
              "{'$119.7': 1,\n",
              " '$125.6': 0,\n",
              " '$3.7': 0,\n",
              " '$7.2': 0,\n",
              " '44%': 1,\n",
              " 'ahead': 1,\n",
              " 'amazon': 0,\n",
              " 'analysts': 1,\n",
              " 'and': 1,\n",
              " 'billion': 1,\n",
              " 'billion.': 0,\n",
              " 'double': 0,\n",
              " 'from': 1,\n",
              " 'had': 1,\n",
              " 'hit': 0,\n",
              " 'in': 1,\n",
              " 'income': 0,\n",
              " 'nearly': 0,\n",
              " 'net': 0,\n",
              " 'of': 1,\n",
              " 'period': 1,\n",
              " 'posted': 0,\n",
              " 'predicted': 0,\n",
              " 'prior': 1,\n",
              " 'projected.': 1,\n",
              " 'quarter': 0,\n",
              " 'quarterly': 0,\n",
              " 'sales': 0,\n",
              " 'same': 1,\n",
              " 'street': 1,\n",
              " 'the': 3,\n",
              " 'up': 1,\n",
              " 'wall': 1,\n",
              " 'well': 1,\n",
              " 'year': 1}"
            ]
          },
          "metadata": {
            "tags": []
          },
          "execution_count": 7
        }
      ]
    },
    {
      "cell_type": "code",
      "metadata": {
        "colab": {
          "base_uri": "https://localhost:8080/"
        },
        "id": "ohjmLn4dFmu0",
        "outputId": "b89467b5-ff8f-4f79-b9d9-6ed78a3651b1"
      },
      "source": [
        "word_dict_C"
      ],
      "execution_count": 8,
      "outputs": [
        {
          "output_type": "execute_result",
          "data": {
            "text/plain": [
              "{'$119.7': 0,\n",
              " '$125.6': 0,\n",
              " '$3.7': 1,\n",
              " '$7.2': 1,\n",
              " '44%': 0,\n",
              " 'ahead': 0,\n",
              " 'amazon': 0,\n",
              " 'analysts': 0,\n",
              " 'and': 0,\n",
              " 'billion': 2,\n",
              " 'billion.': 0,\n",
              " 'double': 1,\n",
              " 'from': 0,\n",
              " 'had': 0,\n",
              " 'hit': 1,\n",
              " 'in': 1,\n",
              " 'income': 1,\n",
              " 'nearly': 1,\n",
              " 'net': 1,\n",
              " 'of': 0,\n",
              " 'period': 0,\n",
              " 'posted': 0,\n",
              " 'predicted': 1,\n",
              " 'prior': 0,\n",
              " 'projected.': 0,\n",
              " 'quarter': 1,\n",
              " 'quarterly': 0,\n",
              " 'sales': 0,\n",
              " 'same': 0,\n",
              " 'street': 1,\n",
              " 'the': 2,\n",
              " 'up': 0,\n",
              " 'wall': 1,\n",
              " 'well': 0,\n",
              " 'year': 0}"
            ]
          },
          "metadata": {
            "tags": []
          },
          "execution_count": 8
        }
      ]
    },
    {
      "cell_type": "code",
      "metadata": {
        "id": "4RrH6hCmFtpe"
      },
      "source": [
        ""
      ],
      "execution_count": null,
      "outputs": []
    }
  ]
}