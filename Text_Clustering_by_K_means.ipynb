{
  "nbformat": 4,
  "nbformat_minor": 0,
  "metadata": {
    "colab": {
      "name": "Text Clustering by K-means.ipynb",
      "provenance": [],
      "authorship_tag": "ABX9TyP5Kk3JJf4PAt1ZxJ6wvAhx",
      "include_colab_link": true
    },
    "kernelspec": {
      "name": "python3",
      "display_name": "Python 3"
    }
  },
  "cells": [
    {
      "cell_type": "markdown",
      "metadata": {
        "id": "view-in-github",
        "colab_type": "text"
      },
      "source": [
        "<a href=\"https://colab.research.google.com/github/khuloodnasher/Text-Clustering/blob/main/Text_Clustering_by_K_means.ipynb\" target=\"_parent\"><img src=\"https://colab.research.google.com/assets/colab-badge.svg\" alt=\"Open In Colab\"/></a>"
      ]
    },
    {
      "cell_type": "code",
      "metadata": {
        "id": "cW3nboPo-PKS"
      },
      "source": [
        "import numpy as np\n",
        "import re"
      ],
      "execution_count": 1,
      "outputs": []
    },
    {
      "cell_type": "code",
      "metadata": {
        "id": "J1jFG-RJ7USL"
      },
      "source": [
        "corpus=\"\"\" \n",
        "Amazon  posted quarterly net sales of $125.6 billion.\n",
        "up 44% from the same period in the prior year and well ahead of the $119.7 billion Wall Street analysts had projected.\n",
        "Net income in the quarter hit $7.2 billion nearly double the $3.7 billion Wall Street predicted\n",
        "and more than double the $3.3 billion in income the company earned in the year-ago quarter.\n",
        "Earnings per diluted share were $14.09.After a week of practices here in Mobile. 100plus prospects for the 2021 NFL Draft capped off a crucial job interview in Saturday's Reese's Senior Bowl.\n",
        "The National team, coached by the Miami Dolphins staff. defeated the Carolina Panthers-led American team, 27-24. \n",
        "\"\"\".split(\"\\n\")[1:-1]"
      ],
      "execution_count": 10,
      "outputs": []
    },
    {
      "cell_type": "code",
      "metadata": {
        "colab": {
          "base_uri": "https://localhost:8080/"
        },
        "id": "bae1SrrM-ce_",
        "outputId": "50138b96-b5bb-48aa-cbf7-c8494a7dc595"
      },
      "source": [
        "corpus"
      ],
      "execution_count": 11,
      "outputs": [
        {
          "output_type": "execute_result",
          "data": {
            "text/plain": [
              "['Amazon  posted quarterly net sales of $125.6 billion.',\n",
              " 'up 44% from the same period in the prior year and well ahead of the $119.7 billion Wall Street analysts had projected.',\n",
              " 'Net income in the quarter hit $7.2 billion nearly double the $3.7 billion Wall Street predicted',\n",
              " 'and more than double the $3.3 billion in income the company earned in the year-ago quarter.',\n",
              " \"Earnings per diluted share were $14.09.After a week of practices here in Mobile. 100plus prospects for the 2021 NFL Draft capped off a crucial job interview in Saturday's Reese's Senior Bowl.\",\n",
              " 'The National team, coached by the Miami Dolphins staff. defeated the Carolina Panthers-led American team, 27-24. ']"
            ]
          },
          "metadata": {
            "tags": []
          },
          "execution_count": 11
        }
      ]
    },
    {
      "cell_type": "code",
      "metadata": {
        "id": "1THFvAfF-e07"
      },
      "source": [
        ""
      ],
      "execution_count": null,
      "outputs": []
    }
  ]
}