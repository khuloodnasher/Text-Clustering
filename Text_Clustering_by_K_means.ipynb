{
  "nbformat": 4,
  "nbformat_minor": 0,
  "metadata": {
    "colab": {
      "name": "Text Clustering by K-means.ipynb",
      "provenance": [],
      "authorship_tag": "ABX9TyPf4DmVzGlMzo/SK2oEhigj",
      "include_colab_link": true
    },
    "kernelspec": {
      "name": "python3",
      "display_name": "Python 3"
    }
  },
  "cells": [
    {
      "cell_type": "markdown",
      "metadata": {
        "id": "view-in-github",
        "colab_type": "text"
      },
      "source": [
        "<a href=\"https://colab.research.google.com/github/khuloodnasher/Text-Clustering/blob/main/Text_Clustering_by_K_means.ipynb\" target=\"_parent\"><img src=\"https://colab.research.google.com/assets/colab-badge.svg\" alt=\"Open In Colab\"/></a>"
      ]
    },
    {
      "cell_type": "code",
      "metadata": {
        "id": "cW3nboPo-PKS"
      },
      "source": [
        "import numpy as np\n",
        "import re"
      ],
      "execution_count": 1,
      "outputs": []
    },
    {
      "cell_type": "code",
      "metadata": {
        "id": "J1jFG-RJ7USL"
      },
      "source": [
        "corpus=\"\"\" \n",
        "Amazon  posted quarterly net sales of $125.6 billion.\n",
        "up 44% from the same period in the prior year and well ahead of the $119.7 billion Wall Street analysts had projected.\n",
        "Net income in the quarter hit $7.2 billion nearly double the $3.7 billion Wall Street predicted\n",
        "and more than double the $3.3 billion in income the company earned in the year-ago quarter.\n",
        "Earnings per diluted share were $14.09.After a week of practices here in Mobile. 100plus prospects for the 2021 NFL Draft capped off a crucial job interview in Saturday's Reese's Senior Bowl.\n",
        "The National team, coached by the Miami Dolphins staff. defeated the Carolina Panthers-led American team, 27-24. \n",
        "\"\"\".split(\"\\n\")[1:-1]"
      ],
      "execution_count": 2,
      "outputs": []
    },
    {
      "cell_type": "code",
      "metadata": {
        "colab": {
          "base_uri": "https://localhost:8080/"
        },
        "id": "bae1SrrM-ce_",
        "outputId": "2afd838e-293e-4016-d414-5d3b87eefe95"
      },
      "source": [
        "corpus"
      ],
      "execution_count": 3,
      "outputs": [
        {
          "output_type": "execute_result",
          "data": {
            "text/plain": [
              "['Amazon  posted quarterly net sales of $125.6 billion.',\n",
              " 'up 44% from the same period in the prior year and well ahead of the $119.7 billion Wall Street analysts had projected.',\n",
              " 'Net income in the quarter hit $7.2 billion nearly double the $3.7 billion Wall Street predicted',\n",
              " 'and more than double the $3.3 billion in income the company earned in the year-ago quarter.',\n",
              " \"Earnings per diluted share were $14.09.After a week of practices here in Mobile. 100plus prospects for the 2021 NFL Draft capped off a crucial job interview in Saturday's Reese's Senior Bowl.\",\n",
              " 'The National team, coached by the Miami Dolphins staff. defeated the Carolina Panthers-led American team, 27-24. ']"
            ]
          },
          "metadata": {
            "tags": []
          },
          "execution_count": 3
        }
      ]
    },
    {
      "cell_type": "code",
      "metadata": {
        "id": "1THFvAfF-e07"
      },
      "source": [
        "# clearing and tokenizing\n",
        "l_A = corpus[0].lower().split()\n",
        "l_B = corpus[1].lower().split()\n",
        "l_C = corpus[2].lower().split()\n",
        "\n",
        "# Calculating bag of words\n",
        "word_set = set(l_A).union(set(l_B)).union(set(l_C))\n",
        "\n",
        "word_dict_A = dict.fromkeys(word_set, 0)\n",
        "word_dict_B = dict.fromkeys(word_set, 0)\n",
        "word_dict_C = dict.fromkeys(word_set, 0)\n",
        "\n",
        "for word in l_A:\n",
        "    word_dict_A[word] += 1\n",
        "\n",
        "for word in l_B:\n",
        "    word_dict_B[word] += 1\n",
        "\n",
        "for word in l_C:\n",
        "    word_dict_C[word] += 1"
      ],
      "execution_count": 4,
      "outputs": []
    },
    {
      "cell_type": "code",
      "metadata": {
        "colab": {
          "base_uri": "https://localhost:8080/"
        },
        "id": "nzWU2hdfFF2P",
        "outputId": "b64febc5-b02c-4b4e-8a99-ec064fafec6a"
      },
      "source": [
        "word_dict_A"
      ],
      "execution_count": 5,
      "outputs": [
        {
          "output_type": "execute_result",
          "data": {
            "text/plain": [
              "{'$119.7': 0,\n",
              " '$125.6': 1,\n",
              " '$3.7': 0,\n",
              " '$7.2': 0,\n",
              " '44%': 0,\n",
              " 'ahead': 0,\n",
              " 'amazon': 1,\n",
              " 'analysts': 0,\n",
              " 'and': 0,\n",
              " 'billion': 0,\n",
              " 'billion.': 1,\n",
              " 'double': 0,\n",
              " 'from': 0,\n",
              " 'had': 0,\n",
              " 'hit': 0,\n",
              " 'in': 0,\n",
              " 'income': 0,\n",
              " 'nearly': 0,\n",
              " 'net': 1,\n",
              " 'of': 1,\n",
              " 'period': 0,\n",
              " 'posted': 1,\n",
              " 'predicted': 0,\n",
              " 'prior': 0,\n",
              " 'projected.': 0,\n",
              " 'quarter': 0,\n",
              " 'quarterly': 1,\n",
              " 'sales': 1,\n",
              " 'same': 0,\n",
              " 'street': 0,\n",
              " 'the': 0,\n",
              " 'up': 0,\n",
              " 'wall': 0,\n",
              " 'well': 0,\n",
              " 'year': 0}"
            ]
          },
          "metadata": {
            "tags": []
          },
          "execution_count": 5
        }
      ]
    },
    {
      "cell_type": "code",
      "metadata": {
        "colab": {
          "base_uri": "https://localhost:8080/"
        },
        "id": "PjehxfbYFNB8",
        "outputId": "a115d5c3-8836-466e-9906-a4dd4901290a"
      },
      "source": [
        "word_dict_B"
      ],
      "execution_count": 6,
      "outputs": [
        {
          "output_type": "execute_result",
          "data": {
            "text/plain": [
              "{'$119.7': 1,\n",
              " '$125.6': 0,\n",
              " '$3.7': 0,\n",
              " '$7.2': 0,\n",
              " '44%': 1,\n",
              " 'ahead': 1,\n",
              " 'amazon': 0,\n",
              " 'analysts': 1,\n",
              " 'and': 1,\n",
              " 'billion': 1,\n",
              " 'billion.': 0,\n",
              " 'double': 0,\n",
              " 'from': 1,\n",
              " 'had': 1,\n",
              " 'hit': 0,\n",
              " 'in': 1,\n",
              " 'income': 0,\n",
              " 'nearly': 0,\n",
              " 'net': 0,\n",
              " 'of': 1,\n",
              " 'period': 1,\n",
              " 'posted': 0,\n",
              " 'predicted': 0,\n",
              " 'prior': 1,\n",
              " 'projected.': 1,\n",
              " 'quarter': 0,\n",
              " 'quarterly': 0,\n",
              " 'sales': 0,\n",
              " 'same': 1,\n",
              " 'street': 1,\n",
              " 'the': 3,\n",
              " 'up': 1,\n",
              " 'wall': 1,\n",
              " 'well': 1,\n",
              " 'year': 1}"
            ]
          },
          "metadata": {
            "tags": []
          },
          "execution_count": 6
        }
      ]
    },
    {
      "cell_type": "code",
      "metadata": {
        "colab": {
          "base_uri": "https://localhost:8080/"
        },
        "id": "ohjmLn4dFmu0",
        "outputId": "a00d9703-7b0f-485b-8694-6d3b86c366dc"
      },
      "source": [
        "word_dict_C"
      ],
      "execution_count": 7,
      "outputs": [
        {
          "output_type": "execute_result",
          "data": {
            "text/plain": [
              "{'$119.7': 0,\n",
              " '$125.6': 0,\n",
              " '$3.7': 1,\n",
              " '$7.2': 1,\n",
              " '44%': 0,\n",
              " 'ahead': 0,\n",
              " 'amazon': 0,\n",
              " 'analysts': 0,\n",
              " 'and': 0,\n",
              " 'billion': 2,\n",
              " 'billion.': 0,\n",
              " 'double': 1,\n",
              " 'from': 0,\n",
              " 'had': 0,\n",
              " 'hit': 1,\n",
              " 'in': 1,\n",
              " 'income': 1,\n",
              " 'nearly': 1,\n",
              " 'net': 1,\n",
              " 'of': 0,\n",
              " 'period': 0,\n",
              " 'posted': 0,\n",
              " 'predicted': 1,\n",
              " 'prior': 0,\n",
              " 'projected.': 0,\n",
              " 'quarter': 1,\n",
              " 'quarterly': 0,\n",
              " 'sales': 0,\n",
              " 'same': 0,\n",
              " 'street': 1,\n",
              " 'the': 2,\n",
              " 'up': 0,\n",
              " 'wall': 1,\n",
              " 'well': 0,\n",
              " 'year': 0}"
            ]
          },
          "metadata": {
            "tags": []
          },
          "execution_count": 7
        }
      ]
    },
    {
      "cell_type": "code",
      "metadata": {
        "id": "4RrH6hCmFtpe"
      },
      "source": [
        "def compute_tf(word_dict, l):\n",
        "    tf = {}\n",
        "    sum_nk = len(l)\n",
        "    for word, count in word_dict.items():\n",
        "        tf[word] = count/sum_nk\n",
        "    return tf\n",
        "  \n",
        "tf_A = compute_tf(word_dict_A, l_A)\n",
        "tf_B = compute_tf(word_dict_B, l_B)\n",
        "tf_C = compute_tf(word_dict_C, l_C)\n"
      ],
      "execution_count": 8,
      "outputs": []
    },
    {
      "cell_type": "code",
      "metadata": {
        "colab": {
          "base_uri": "https://localhost:8080/"
        },
        "id": "hgqow_slOOk3",
        "outputId": "7f8aeae8-5fd9-4ea7-d749-5bd694cc1a29"
      },
      "source": [
        "tf_A"
      ],
      "execution_count": 9,
      "outputs": [
        {
          "output_type": "execute_result",
          "data": {
            "text/plain": [
              "{'$119.7': 0.0,\n",
              " '$125.6': 0.125,\n",
              " '$3.7': 0.0,\n",
              " '$7.2': 0.0,\n",
              " '44%': 0.0,\n",
              " 'ahead': 0.0,\n",
              " 'amazon': 0.125,\n",
              " 'analysts': 0.0,\n",
              " 'and': 0.0,\n",
              " 'billion': 0.0,\n",
              " 'billion.': 0.125,\n",
              " 'double': 0.0,\n",
              " 'from': 0.0,\n",
              " 'had': 0.0,\n",
              " 'hit': 0.0,\n",
              " 'in': 0.0,\n",
              " 'income': 0.0,\n",
              " 'nearly': 0.0,\n",
              " 'net': 0.125,\n",
              " 'of': 0.125,\n",
              " 'period': 0.0,\n",
              " 'posted': 0.125,\n",
              " 'predicted': 0.0,\n",
              " 'prior': 0.0,\n",
              " 'projected.': 0.0,\n",
              " 'quarter': 0.0,\n",
              " 'quarterly': 0.125,\n",
              " 'sales': 0.125,\n",
              " 'same': 0.0,\n",
              " 'street': 0.0,\n",
              " 'the': 0.0,\n",
              " 'up': 0.0,\n",
              " 'wall': 0.0,\n",
              " 'well': 0.0,\n",
              " 'year': 0.0}"
            ]
          },
          "metadata": {
            "tags": []
          },
          "execution_count": 9
        }
      ]
    },
    {
      "cell_type": "code",
      "metadata": {
        "colab": {
          "base_uri": "https://localhost:8080/"
        },
        "id": "WZ8XL2r5OULs",
        "outputId": "5684a571-aafd-47f2-db15-dc75b2228b8c"
      },
      "source": [
        "tf_B"
      ],
      "execution_count": 10,
      "outputs": [
        {
          "output_type": "execute_result",
          "data": {
            "text/plain": [
              "{'$119.7': 0.045454545454545456,\n",
              " '$125.6': 0.0,\n",
              " '$3.7': 0.0,\n",
              " '$7.2': 0.0,\n",
              " '44%': 0.045454545454545456,\n",
              " 'ahead': 0.045454545454545456,\n",
              " 'amazon': 0.0,\n",
              " 'analysts': 0.045454545454545456,\n",
              " 'and': 0.045454545454545456,\n",
              " 'billion': 0.045454545454545456,\n",
              " 'billion.': 0.0,\n",
              " 'double': 0.0,\n",
              " 'from': 0.045454545454545456,\n",
              " 'had': 0.045454545454545456,\n",
              " 'hit': 0.0,\n",
              " 'in': 0.045454545454545456,\n",
              " 'income': 0.0,\n",
              " 'nearly': 0.0,\n",
              " 'net': 0.0,\n",
              " 'of': 0.045454545454545456,\n",
              " 'period': 0.045454545454545456,\n",
              " 'posted': 0.0,\n",
              " 'predicted': 0.0,\n",
              " 'prior': 0.045454545454545456,\n",
              " 'projected.': 0.045454545454545456,\n",
              " 'quarter': 0.0,\n",
              " 'quarterly': 0.0,\n",
              " 'sales': 0.0,\n",
              " 'same': 0.045454545454545456,\n",
              " 'street': 0.045454545454545456,\n",
              " 'the': 0.13636363636363635,\n",
              " 'up': 0.045454545454545456,\n",
              " 'wall': 0.045454545454545456,\n",
              " 'well': 0.045454545454545456,\n",
              " 'year': 0.045454545454545456}"
            ]
          },
          "metadata": {
            "tags": []
          },
          "execution_count": 10
        }
      ]
    },
    {
      "cell_type": "code",
      "metadata": {
        "colab": {
          "base_uri": "https://localhost:8080/"
        },
        "id": "jgmR14k3Od6I",
        "outputId": "6cc572e4-374c-402e-9b01-82b9931ffaa8"
      },
      "source": [
        "tf_C"
      ],
      "execution_count": 11,
      "outputs": [
        {
          "output_type": "execute_result",
          "data": {
            "text/plain": [
              "{'$119.7': 0.0,\n",
              " '$125.6': 0.0,\n",
              " '$3.7': 0.0625,\n",
              " '$7.2': 0.0625,\n",
              " '44%': 0.0,\n",
              " 'ahead': 0.0,\n",
              " 'amazon': 0.0,\n",
              " 'analysts': 0.0,\n",
              " 'and': 0.0,\n",
              " 'billion': 0.125,\n",
              " 'billion.': 0.0,\n",
              " 'double': 0.0625,\n",
              " 'from': 0.0,\n",
              " 'had': 0.0,\n",
              " 'hit': 0.0625,\n",
              " 'in': 0.0625,\n",
              " 'income': 0.0625,\n",
              " 'nearly': 0.0625,\n",
              " 'net': 0.0625,\n",
              " 'of': 0.0,\n",
              " 'period': 0.0,\n",
              " 'posted': 0.0,\n",
              " 'predicted': 0.0625,\n",
              " 'prior': 0.0,\n",
              " 'projected.': 0.0,\n",
              " 'quarter': 0.0625,\n",
              " 'quarterly': 0.0,\n",
              " 'sales': 0.0,\n",
              " 'same': 0.0,\n",
              " 'street': 0.0625,\n",
              " 'the': 0.125,\n",
              " 'up': 0.0,\n",
              " 'wall': 0.0625,\n",
              " 'well': 0.0,\n",
              " 'year': 0.0}"
            ]
          },
          "metadata": {
            "tags": []
          },
          "execution_count": 11
        }
      ]
    },
    {
      "cell_type": "code",
      "metadata": {
        "id": "g_WXrQdtOidZ"
      },
      "source": [
        "import numpy as np\n",
        "import re\n",
        "\n",
        "\n",
        "corpus=\"\"\" \n",
        "Amazon  posted quarterly net sales of $125.6 billion.\n",
        "up 44% from the same period in the prior year and well ahead of the $119.7 billion Wall Street analysts had projected.\n",
        "Net income in the quarter hit $7.2 billion nearly double the $3.7 billion Wall Street predicted\n",
        "and more than double the $3.3 billion in income the company earned in the year-ago quarter.\n",
        "Earnings per diluted share were $14.09.After a week of practices here in Mobile. 100plus prospects for the 2021 NFL Draft capped off a crucial job interview in Saturday's Reese's Senior Bowl.\n",
        "The National team, coached by the Miami Dolphins staff. defeated the Carolina Panthers-led American team, 27-24. \n",
        "\"\"\".split(\"\\n\")[1:-1]\n",
        "\n"
      ],
      "execution_count": 12,
      "outputs": []
    },
    {
      "cell_type": "code",
      "metadata": {
        "colab": {
          "base_uri": "https://localhost:8080/"
        },
        "id": "G5SAU2WQuceL",
        "outputId": "084c7e69-5cbc-41ed-c4d0-5dbda4407d4e"
      },
      "source": [
        "corpus"
      ],
      "execution_count": 13,
      "outputs": [
        {
          "output_type": "execute_result",
          "data": {
            "text/plain": [
              "['Amazon  posted quarterly net sales of $125.6 billion.',\n",
              " 'up 44% from the same period in the prior year and well ahead of the $119.7 billion Wall Street analysts had projected.',\n",
              " 'Net income in the quarter hit $7.2 billion nearly double the $3.7 billion Wall Street predicted',\n",
              " 'and more than double the $3.3 billion in income the company earned in the year-ago quarter.',\n",
              " \"Earnings per diluted share were $14.09.After a week of practices here in Mobile. 100plus prospects for the 2021 NFL Draft capped off a crucial job interview in Saturday's Reese's Senior Bowl.\",\n",
              " 'The National team, coached by the Miami Dolphins staff. defeated the Carolina Panthers-led American team, 27-24. ']"
            ]
          },
          "metadata": {
            "tags": []
          },
          "execution_count": 13
        }
      ]
    },
    {
      "cell_type": "code",
      "metadata": {
        "id": "3g535EQStzPo"
      },
      "source": [
        "# cleaning\n",
        "def preprocessing(line):\n",
        "    line = line.lower()\n",
        "    line = re.sub(r\"[{}]\", \" \", line)\n",
        "    return line"
      ],
      "execution_count": 14,
      "outputs": []
    },
    {
      "cell_type": "code",
      "metadata": {
        "id": "dO81aWj4rH-p"
      },
      "source": [
        "from sklearn.feature_extraction.text import TfidfVectorizer\n",
        "from sklearn.cluster import KMeans\n",
        "\n",
        "\n",
        "\n",
        "\n",
        "\n",
        "tfidf_vectorizer = TfidfVectorizer(preprocessor=preprocessing)\n",
        "tfidf = tfidf_vectorizer.fit_transform(corpus)\n",
        "\n",
        "kmeans = KMeans(n_clusters=2).fit(tfidf)\n"
      ],
      "execution_count": 15,
      "outputs": []
    },
    {
      "cell_type": "code",
      "metadata": {
        "id": "PqsG9q38tyZF"
      },
      "source": [
        ""
      ],
      "execution_count": 15,
      "outputs": []
    },
    {
      "cell_type": "code",
      "metadata": {
        "colab": {
          "base_uri": "https://localhost:8080/"
        },
        "id": "EobZi-blrpv0",
        "outputId": "d4f2bbc7-2ae0-4d8b-973f-05141b259eb4"
      },
      "source": [
        "\n",
        "lines_for_predicting = [\"The National team, coached by the Miami Dolphins staff. defeated the Carolina Panthers-led American team, 27-24.\", \"and more than double the $3.3 billion in income the company earned in the year-ago quarter.\"]\n",
        "kmeans.predict(tfidf_vectorizer.transform(lines_for_predicting))"
      ],
      "execution_count": 16,
      "outputs": [
        {
          "output_type": "execute_result",
          "data": {
            "text/plain": [
              "array([1, 1], dtype=int32)"
            ]
          },
          "metadata": {
            "tags": []
          },
          "execution_count": 16
        }
      ]
    },
    {
      "cell_type": "code",
      "metadata": {
        "colab": {
          "base_uri": "https://localhost:8080/"
        },
        "id": "1TF0fth2E2q2",
        "outputId": "570a7227-e1ab-419d-c5e9-c25b54cf3d55"
      },
      "source": [
        "predict_1 = [\"Amazon  posted quarterly net sales of $125.6 billion.\", \"up 44% from the same period in the prior year and well ahead of the $119.7 billion Wall Street analysts had projected.\"]\n",
        "kmeans.predict(tfidf_vectorizer.transform(predict_1))"
      ],
      "execution_count": 17,
      "outputs": [
        {
          "output_type": "execute_result",
          "data": {
            "text/plain": [
              "array([0, 1], dtype=int32)"
            ]
          },
          "metadata": {
            "tags": []
          },
          "execution_count": 17
        }
      ]
    },
    {
      "cell_type": "code",
      "metadata": {
        "id": "mqlUNWl9kaif"
      },
      "source": [
        ""
      ],
      "execution_count": 17,
      "outputs": []
    }
  ]
}